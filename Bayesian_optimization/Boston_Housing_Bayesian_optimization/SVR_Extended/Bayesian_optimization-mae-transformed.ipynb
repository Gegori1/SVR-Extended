{
 "cells": [
  {
   "cell_type": "markdown",
   "metadata": {},
   "source": [
    "## Libraries"
   ]
  },
  {
   "cell_type": "code",
   "execution_count": 1,
   "metadata": {
    "ExecuteTime": {
     "end_time": "2021-09-25T01:00:22.834591Z",
     "start_time": "2021-09-25T01:00:19.445479Z"
    }
   },
   "outputs": [],
   "source": [
    "import matplotlib.pyplot as plt\n",
    "import pandas as pd\n",
    "import numpy as np\n",
    "from sklearn.preprocessing import StandardScaler\n",
    "from sklearn.model_selection import train_test_split\n",
    "from sklearn.datasets import load_boston\n",
    "from sklearn.metrics import r2_score, mean_absolute_error\n",
    "from pathlib import Path"
   ]
  },
  {
   "cell_type": "code",
   "execution_count": 2,
   "metadata": {
    "ExecuteTime": {
     "end_time": "2021-09-25T01:00:22.897651Z",
     "start_time": "2021-09-25T01:00:22.834591Z"
    }
   },
   "outputs": [],
   "source": [
    "from bayes_opt import BayesianOptimization\n",
    "from bayes_opt.logger import JSONLogger\n",
    "from bayes_opt.event import Events"
   ]
  },
  {
   "cell_type": "code",
   "execution_count": 3,
   "metadata": {
    "ExecuteTime": {
     "end_time": "2021-09-25T01:00:23.164630Z",
     "start_time": "2021-09-25T01:00:22.902656Z"
    }
   },
   "outputs": [],
   "source": [
    "%run ..//..//..//Library//SVRExtended_Library.ipynb "
   ]
  },
  {
   "cell_type": "markdown",
   "metadata": {},
   "source": [
    "## Load data"
   ]
  },
  {
   "cell_type": "code",
   "execution_count": 4,
   "metadata": {
    "ExecuteTime": {
     "end_time": "2021-09-25T01:00:23.259632Z",
     "start_time": "2021-09-25T01:00:23.169632Z"
    }
   },
   "outputs": [
    {
     "data": {
      "text/html": [
       "<div>\n",
       "<style scoped>\n",
       "    .dataframe tbody tr th:only-of-type {\n",
       "        vertical-align: middle;\n",
       "    }\n",
       "\n",
       "    .dataframe tbody tr th {\n",
       "        vertical-align: top;\n",
       "    }\n",
       "\n",
       "    .dataframe thead th {\n",
       "        text-align: right;\n",
       "    }\n",
       "</style>\n",
       "<table border=\"1\" class=\"dataframe\">\n",
       "  <thead>\n",
       "    <tr style=\"text-align: right;\">\n",
       "      <th></th>\n",
       "      <th>CRIM</th>\n",
       "      <th>ZN</th>\n",
       "      <th>INDUS</th>\n",
       "      <th>CHAS</th>\n",
       "      <th>NOX</th>\n",
       "      <th>RM</th>\n",
       "      <th>AGE</th>\n",
       "      <th>DIS</th>\n",
       "      <th>RAD</th>\n",
       "      <th>TAX</th>\n",
       "      <th>PTRATIO</th>\n",
       "      <th>B</th>\n",
       "      <th>LSTAT</th>\n",
       "    </tr>\n",
       "  </thead>\n",
       "  <tbody>\n",
       "    <tr>\n",
       "      <th>0</th>\n",
       "      <td>0.00632</td>\n",
       "      <td>18.0</td>\n",
       "      <td>2.31</td>\n",
       "      <td>0.0</td>\n",
       "      <td>0.538</td>\n",
       "      <td>6.575</td>\n",
       "      <td>65.2</td>\n",
       "      <td>4.0900</td>\n",
       "      <td>1.0</td>\n",
       "      <td>296.0</td>\n",
       "      <td>15.3</td>\n",
       "      <td>396.90</td>\n",
       "      <td>4.98</td>\n",
       "    </tr>\n",
       "    <tr>\n",
       "      <th>1</th>\n",
       "      <td>0.02731</td>\n",
       "      <td>0.0</td>\n",
       "      <td>7.07</td>\n",
       "      <td>0.0</td>\n",
       "      <td>0.469</td>\n",
       "      <td>6.421</td>\n",
       "      <td>78.9</td>\n",
       "      <td>4.9671</td>\n",
       "      <td>2.0</td>\n",
       "      <td>242.0</td>\n",
       "      <td>17.8</td>\n",
       "      <td>396.90</td>\n",
       "      <td>9.14</td>\n",
       "    </tr>\n",
       "    <tr>\n",
       "      <th>2</th>\n",
       "      <td>0.02729</td>\n",
       "      <td>0.0</td>\n",
       "      <td>7.07</td>\n",
       "      <td>0.0</td>\n",
       "      <td>0.469</td>\n",
       "      <td>7.185</td>\n",
       "      <td>61.1</td>\n",
       "      <td>4.9671</td>\n",
       "      <td>2.0</td>\n",
       "      <td>242.0</td>\n",
       "      <td>17.8</td>\n",
       "      <td>392.83</td>\n",
       "      <td>4.03</td>\n",
       "    </tr>\n",
       "    <tr>\n",
       "      <th>3</th>\n",
       "      <td>0.03237</td>\n",
       "      <td>0.0</td>\n",
       "      <td>2.18</td>\n",
       "      <td>0.0</td>\n",
       "      <td>0.458</td>\n",
       "      <td>6.998</td>\n",
       "      <td>45.8</td>\n",
       "      <td>6.0622</td>\n",
       "      <td>3.0</td>\n",
       "      <td>222.0</td>\n",
       "      <td>18.7</td>\n",
       "      <td>394.63</td>\n",
       "      <td>2.94</td>\n",
       "    </tr>\n",
       "    <tr>\n",
       "      <th>4</th>\n",
       "      <td>0.06905</td>\n",
       "      <td>0.0</td>\n",
       "      <td>2.18</td>\n",
       "      <td>0.0</td>\n",
       "      <td>0.458</td>\n",
       "      <td>7.147</td>\n",
       "      <td>54.2</td>\n",
       "      <td>6.0622</td>\n",
       "      <td>3.0</td>\n",
       "      <td>222.0</td>\n",
       "      <td>18.7</td>\n",
       "      <td>396.90</td>\n",
       "      <td>5.33</td>\n",
       "    </tr>\n",
       "  </tbody>\n",
       "</table>\n",
       "</div>"
      ],
      "text/plain": [
       "      CRIM    ZN  INDUS  CHAS    NOX     RM   AGE     DIS  RAD    TAX  \\\n",
       "0  0.00632  18.0   2.31   0.0  0.538  6.575  65.2  4.0900  1.0  296.0   \n",
       "1  0.02731   0.0   7.07   0.0  0.469  6.421  78.9  4.9671  2.0  242.0   \n",
       "2  0.02729   0.0   7.07   0.0  0.469  7.185  61.1  4.9671  2.0  242.0   \n",
       "3  0.03237   0.0   2.18   0.0  0.458  6.998  45.8  6.0622  3.0  222.0   \n",
       "4  0.06905   0.0   2.18   0.0  0.458  7.147  54.2  6.0622  3.0  222.0   \n",
       "\n",
       "   PTRATIO       B  LSTAT  \n",
       "0     15.3  396.90   4.98  \n",
       "1     17.8  396.90   9.14  \n",
       "2     17.8  392.83   4.03  \n",
       "3     18.7  394.63   2.94  \n",
       "4     18.7  396.90   5.33  "
      ]
     },
     "execution_count": 4,
     "metadata": {},
     "output_type": "execute_result"
    }
   ],
   "source": [
    "boston = load_boston()\n",
    "\n",
    "# Initializing the dataframe\n",
    "data = pd.DataFrame(boston.data)\n",
    "\n",
    "#Adding the feature names to the dataframe\n",
    "data.columns = boston.feature_names\n",
    "data.head()"
   ]
  },
  {
   "cell_type": "code",
   "execution_count": 5,
   "metadata": {
    "ExecuteTime": {
     "end_time": "2021-09-25T01:00:23.274635Z",
     "start_time": "2021-09-25T01:00:23.262635Z"
    }
   },
   "outputs": [],
   "source": [
    "#Adding target variable to dataframe\n",
    "data['PRICE'] = boston.target "
   ]
  },
  {
   "cell_type": "code",
   "execution_count": 6,
   "metadata": {
    "ExecuteTime": {
     "end_time": "2021-09-25T01:00:23.289634Z",
     "start_time": "2021-09-25T01:00:23.278634Z"
    }
   },
   "outputs": [],
   "source": [
    "# Spliting target variable and independent variables\n",
    "X = data.drop(['PRICE'], axis = 1)\n",
    "y = data['PRICE']"
   ]
  },
  {
   "cell_type": "code",
   "execution_count": 7,
   "metadata": {
    "ExecuteTime": {
     "end_time": "2021-09-25T01:00:23.321635Z",
     "start_time": "2021-09-25T01:00:23.292634Z"
    }
   },
   "outputs": [],
   "source": [
    "# Matrix with feature transformation\n",
    "X = pd.read_csv(\"..\\\\newBoston.csv\")"
   ]
  },
  {
   "cell_type": "code",
   "execution_count": 8,
   "metadata": {
    "ExecuteTime": {
     "end_time": "2021-09-25T01:00:23.337633Z",
     "start_time": "2021-09-25T01:00:23.326634Z"
    }
   },
   "outputs": [],
   "source": [
    "# Splitting to training and testing data\n",
    "X_train, X_test, y_train, y_test = train_test_split(X,y, test_size = 0.3, random_state = 4)"
   ]
  },
  {
   "cell_type": "code",
   "execution_count": 9,
   "metadata": {
    "ExecuteTime": {
     "end_time": "2021-09-25T01:00:23.367635Z",
     "start_time": "2021-09-25T01:00:23.340637Z"
    }
   },
   "outputs": [],
   "source": [
    "sc = StandardScaler()\n",
    "X_train = sc.fit_transform(X_train)\n",
    "X_test = sc.transform(X_test)"
   ]
  },
  {
   "cell_type": "markdown",
   "metadata": {},
   "source": [
    "## Optimization function"
   ]
  },
  {
   "cell_type": "code",
   "execution_count": 10,
   "metadata": {
    "ExecuteTime": {
     "end_time": "2021-09-25T01:00:24.298852Z",
     "start_time": "2021-09-25T01:00:24.288853Z"
    }
   },
   "outputs": [],
   "source": [
    "def opt_bas(C, epsilon, lamda, gamma):\n",
    "    \n",
    "    # parameters\n",
    "    hyperparameters = {\n",
    "        'kernel' : \"rbf\",\n",
    "        'C' : C, \n",
    "        'epsilon' : epsilon, \n",
    "        'lamda' : lamda,\n",
    "        'gamma' : gamma,\n",
    "    }\n",
    "    \n",
    "    # fit and predict\n",
    "    model = SVRExtended_cvxpy(**hyperparameters).fit(X_train, y_train)\n",
    "\n",
    "    y_pred = model.predict(X_test)\n",
    "    \n",
    "    # get score\n",
    "#     mean_absolute_error, -r2_score\n",
    "    metric = -r2_score(y_test, y_pred)\n",
    "    \n",
    "    return -metric"
   ]
  },
  {
   "cell_type": "markdown",
   "metadata": {},
   "source": [
    "## Run optimization"
   ]
  },
  {
   "cell_type": "code",
   "execution_count": 11,
   "metadata": {
    "ExecuteTime": {
     "end_time": "2021-09-25T01:00:25.255280Z",
     "start_time": "2021-09-25T01:00:25.239280Z"
    }
   },
   "outputs": [],
   "source": [
    "class newJSONLogger(JSONLogger):\n",
    "\n",
    "      def __init__(self, path):\n",
    "            self._path=None\n",
    "            super(JSONLogger, self).__init__()\n",
    "            self._path = path if path[-5:] == \".json\" else path + \".json\""
   ]
  },
  {
   "cell_type": "code",
   "execution_count": 12,
   "metadata": {
    "ExecuteTime": {
     "end_time": "2021-09-25T01:00:25.723275Z",
     "start_time": "2021-09-25T01:00:25.706278Z"
    }
   },
   "outputs": [],
   "source": [
    "# Bounded region of parameter space\n",
    "pbounds = {'C': (2100, 2300), 'epsilon': (0.03, 1), 'lamda': (0.001, 0.4), 'gamma': (0.01, 0.07)}\n",
    "\n",
    "# Bayes optimizer instantiation\n",
    "optimizer = BayesianOptimization(f=opt_bas, \n",
    "                                 pbounds=pbounds, \n",
    "                                 random_state=10, verbose=2, \n",
    "                                )\n",
    "\n",
    "# keep data\n",
    "log_path = Path().resolve() / \"Logs\" / \"Boston_r2_let_cvxpy_g.json\"\n",
    "logger = newJSONLogger(path = str(log_path))\n",
    "optimizer.subscribe(Events.OPTIMIZATION_STEP, logger)"
   ]
  },
  {
   "cell_type": "code",
   "execution_count": null,
   "metadata": {
    "ExecuteTime": {
     "end_time": "2021-09-25T01:00:30.540823Z",
     "start_time": "2021-09-25T01:00:26.490609Z"
    }
   },
   "outputs": [],
   "source": [
    "optimizer.maximize(init_points = 5, n_iter=500)"
   ]
  },
  {
   "cell_type": "code",
   "execution_count": null,
   "metadata": {},
   "outputs": [],
   "source": []
  },
  {
   "cell_type": "markdown",
   "metadata": {},
   "source": [
    "### Cosa"
   ]
  },
  {
   "cell_type": "code",
   "execution_count": null,
   "metadata": {},
   "outputs": [],
   "source": [
    "C = 464.674266\n",
    "epsilon = 0.130052\n",
    "gamma = 0.036080\n",
    "lamda = 0.062522"
   ]
  },
  {
   "cell_type": "code",
   "execution_count": 16,
   "metadata": {
    "ExecuteTime": {
     "end_time": "2021-09-25T01:01:18.905603Z",
     "start_time": "2021-09-25T01:01:18.380655Z"
    }
   },
   "outputs": [],
   "source": [
    "    hyperparameters = {\n",
    "        'kernel' : \"rbf\",\n",
    "        'C' : 464.674266, \n",
    "        'epsilon' : 0.130052, \n",
    "        'lamda' : 0.036080,\n",
    "        'gamma' : 0.062522,\n",
    "    }\n",
    "    \n",
    "    # fit and predict\n",
    "    model = SVRExtended_cvxpy(**hyperparameters).fit(X_train, y_train)"
   ]
  },
  {
   "cell_type": "code",
   "execution_count": 18,
   "metadata": {
    "ExecuteTime": {
     "end_time": "2021-09-25T01:01:37.321712Z",
     "start_time": "2021-09-25T01:01:36.981080Z"
    }
   },
   "outputs": [
    {
     "data": {
      "image/png": "[encoded data removed]",
      "text/plain": [
       "<Figure size 432x288 with 1 Axes>"
      ]
     },
     "metadata": {
      "needs_background": "light"
     },
     "output_type": "display_data"
    }
   ],
   "source": [
    "#%%\n",
    "def calculate_residuals(model, features, label):\n",
    "    \"\"\"\n",
    "    Creates predictions on the features with the model and calculates residuals\n",
    "    \"\"\"\n",
    "    predictions = model.predict(features)\n",
    "    df_results = pd.DataFrame({'Actual': label, 'Predicted': predictions})\n",
    "    df_results['Residuals'] = abs(df_results['Actual']) - abs(df_results['Predicted'])\n",
    "    \n",
    "    return df_results\n",
    "#%%\n",
    "\n",
    " \n",
    "\n",
    "df_results = calculate_residuals(model, X_test, y_test)\n",
    "\n",
    " \n",
    "\n",
    "#%%\n",
    "from scipy.stats import norm\n",
    "import matplotlib.pyplot as plt\n",
    "mu, std = norm.fit(df_results.Residuals)\n",
    "\n",
    " \n",
    "\n",
    "#plot histogram\n",
    "plt.hist(df_results.Residuals, bins=25, density=True, alpha=0.6, color='b')\n",
    "\n",
    " \n",
    "\n",
    "#plot pdf\n",
    "xmin, xmax=plt.xlim()\n",
    "x=np.linspace(xmin, xmax, 100)\n",
    "p = norm.pdf(x,mu,std)\n",
    "plt.plot(x,p,'k',linewidth=2)\n",
    "title=\"Deistribution of Residuals\"\n",
    "plt.title(title)\n",
    "plt.show;"
   ]
  },
  {
   "cell_type": "code",
   "execution_count": null,
   "metadata": {},
   "outputs": [],
   "source": []
  }
 ],
 "metadata": {
  "kernelspec": {
   "display_name": "Python 3 (ipykernel)",
   "language": "python",
   "name": "python3"
  },
  "language_info": {
   "codemirror_mode": {
    "name": "ipython",
    "version": 3
   },
   "file_extension": ".py",
   "mimetype": "text/x-python",
   "name": "python",
   "nbconvert_exporter": "python",
   "pygments_lexer": "ipython3",
   "version": "3.9.7"
  },
  "toc": {
   "base_numbering": 1,
   "nav_menu": {},
   "number_sections": true,
   "sideBar": true,
   "skip_h1_title": false,
   "title_cell": "Table of Contents",
   "title_sidebar": "Contents",
   "toc_cell": false,
   "toc_position": {},
   "toc_section_display": true,
   "toc_window_display": false
  }
 },
 "nbformat": 4,
 "nbformat_minor": 4
}
